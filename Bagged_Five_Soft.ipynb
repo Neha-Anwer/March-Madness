{
 "cells": [
  {
   "cell_type": "markdown",
   "metadata": {},
   "source": [
    "# Download Final Data"
   ]
  },
  {
   "cell_type": "markdown",
   "metadata": {},
   "source": [
    "# Import Libraries"
   ]
  },
  {
   "cell_type": "code",
   "execution_count": 21,
   "metadata": {
    "collapsed": true
   },
   "outputs": [],
   "source": [
    "import pandas as pd, numpy as np\n",
    "\n",
    "from sklearn.ensemble import GradientBoostingClassifier\n",
    "from sklearn.ensemble import BaggingClassifier\n",
    "from sklearn.linear_model import LogisticRegression\n",
    "from sklearn.svm import SVC\n",
    "from sklearn.naive_bayes import GaussianNB\n",
    "from sklearn.ensemble import RandomForestClassifier\n",
    "from scipy import stats\n",
    "from sklearn.model_selection import train_test_split\n",
    "\n",
    "from sklearn.metrics import accuracy_score, precision_score, recall_score, confusion_matrix, f1_score, log_loss\n",
    "\n",
    "from sklearn.feature_selection import RFE\n",
    "\n",
    "from sklearn.metrics import (auc, classification_report, roc_auc_score,roc_curve,recall_score)\n",
    "%matplotlib inline\n",
    "import matplotlib.pyplot as plt\n",
    "plt.style.use('ggplot')"
   ]
  },
  {
   "cell_type": "markdown",
   "metadata": {},
   "source": [
    "## Import Data and define global variables"
   ]
  },
  {
   "cell_type": "code",
   "execution_count": 2,
   "metadata": {
    "collapsed": true
   },
   "outputs": [],
   "source": [
    "X_train = pd.read_csv('train_75.csv', index_col = 0)\n",
    "\n",
    "y_train = pd.read_csv('train_target.csv', index_col = 0).iloc[:,0]\n",
    "\n",
    "X_test = pd.read_csv('test_75.csv', index_col = 0)"
   ]
  },
  {
   "cell_type": "markdown",
   "metadata": {},
   "source": [
    "# Transform!"
   ]
  },
  {
   "cell_type": "code",
   "execution_count": 3,
   "metadata": {},
   "outputs": [
    {
     "data": {
      "text/html": [
       "<div>\n",
       "<style>\n",
       "    .dataframe thead tr:only-child th {\n",
       "        text-align: right;\n",
       "    }\n",
       "\n",
       "    .dataframe thead th {\n",
       "        text-align: left;\n",
       "    }\n",
       "\n",
       "    .dataframe tbody tr th {\n",
       "        vertical-align: top;\n",
       "    }\n",
       "</style>\n",
       "<table border=\"1\" class=\"dataframe\">\n",
       "  <thead>\n",
       "    <tr style=\"text-align: right;\">\n",
       "      <th></th>\n",
       "      <th>team1_elo</th>\n",
       "      <th>team2_elo</th>\n",
       "      <th>team1_elv_diff</th>\n",
       "      <th>team2_elv_diff</th>\n",
       "      <th>host_elv</th>\n",
       "      <th>team1_elv</th>\n",
       "      <th>team2_elv</th>\n",
       "    </tr>\n",
       "  </thead>\n",
       "  <tbody>\n",
       "    <tr>\n",
       "      <th>0</th>\n",
       "      <td>100.0</td>\n",
       "      <td>57.142857</td>\n",
       "      <td>129.095609</td>\n",
       "      <td>172.104489</td>\n",
       "      <td>10.430255</td>\n",
       "      <td>139.525864</td>\n",
       "      <td>182.534744</td>\n",
       "    </tr>\n",
       "    <tr>\n",
       "      <th>1</th>\n",
       "      <td>100.0</td>\n",
       "      <td>0.000000</td>\n",
       "      <td>129.095609</td>\n",
       "      <td>970.228803</td>\n",
       "      <td>10.430255</td>\n",
       "      <td>139.525864</td>\n",
       "      <td>980.659058</td>\n",
       "    </tr>\n",
       "    <tr>\n",
       "      <th>2</th>\n",
       "      <td>100.0</td>\n",
       "      <td>147.368421</td>\n",
       "      <td>129.095609</td>\n",
       "      <td>405.422925</td>\n",
       "      <td>10.430255</td>\n",
       "      <td>139.525864</td>\n",
       "      <td>415.853180</td>\n",
       "    </tr>\n",
       "    <tr>\n",
       "      <th>3</th>\n",
       "      <td>100.0</td>\n",
       "      <td>30.769231</td>\n",
       "      <td>129.095609</td>\n",
       "      <td>277.075727</td>\n",
       "      <td>10.430255</td>\n",
       "      <td>139.525864</td>\n",
       "      <td>287.505981</td>\n",
       "    </tr>\n",
       "    <tr>\n",
       "      <th>4</th>\n",
       "      <td>100.0</td>\n",
       "      <td>40.000000</td>\n",
       "      <td>129.095609</td>\n",
       "      <td>18.804208</td>\n",
       "      <td>10.430255</td>\n",
       "      <td>139.525864</td>\n",
       "      <td>29.234463</td>\n",
       "    </tr>\n",
       "  </tbody>\n",
       "</table>\n",
       "</div>"
      ],
      "text/plain": [
       "   team1_elo   team2_elo  team1_elv_diff  team2_elv_diff   host_elv  \\\n",
       "0      100.0   57.142857      129.095609      172.104489  10.430255   \n",
       "1      100.0    0.000000      129.095609      970.228803  10.430255   \n",
       "2      100.0  147.368421      129.095609      405.422925  10.430255   \n",
       "3      100.0   30.769231      129.095609      277.075727  10.430255   \n",
       "4      100.0   40.000000      129.095609       18.804208  10.430255   \n",
       "\n",
       "    team1_elv   team2_elv  \n",
       "0  139.525864  182.534744  \n",
       "1  139.525864  980.659058  \n",
       "2  139.525864  415.853180  \n",
       "3  139.525864  287.505981  \n",
       "4  139.525864   29.234463  "
      ]
     },
     "execution_count": 3,
     "metadata": {},
     "output_type": "execute_result"
    }
   ],
   "source": [
    "def z_norm(x):\n",
    "    \n",
    "    res = (x - x.mean()) / x.std()\n",
    "    \n",
    "    return res\n",
    "\n",
    "X_test.iloc[:,60:67].head()"
   ]
  },
  {
   "cell_type": "code",
   "execution_count": 4,
   "metadata": {},
   "outputs": [
    {
     "data": {
      "text/html": [
       "<div>\n",
       "<style>\n",
       "    .dataframe thead tr:only-child th {\n",
       "        text-align: right;\n",
       "    }\n",
       "\n",
       "    .dataframe thead th {\n",
       "        text-align: left;\n",
       "    }\n",
       "\n",
       "    .dataframe tbody tr th {\n",
       "        vertical-align: top;\n",
       "    }\n",
       "</style>\n",
       "<table border=\"1\" class=\"dataframe\">\n",
       "  <thead>\n",
       "    <tr style=\"text-align: right;\">\n",
       "      <th></th>\n",
       "      <th>team1_elo</th>\n",
       "      <th>team2_elo</th>\n",
       "      <th>team1_elv_diff</th>\n",
       "      <th>team2_elv_diff</th>\n",
       "      <th>host_elv</th>\n",
       "      <th>team1_elv</th>\n",
       "      <th>team2_elv</th>\n",
       "    </tr>\n",
       "  </thead>\n",
       "  <tbody>\n",
       "    <tr>\n",
       "      <th>0</th>\n",
       "      <td>-0.271798</td>\n",
       "      <td>-0.271798</td>\n",
       "      <td>-0.271798</td>\n",
       "      <td>-0.271798</td>\n",
       "      <td>-0.271798</td>\n",
       "      <td>-0.271798</td>\n",
       "      <td>-0.271798</td>\n",
       "    </tr>\n",
       "    <tr>\n",
       "      <th>1</th>\n",
       "      <td>2.767374</td>\n",
       "      <td>2.767374</td>\n",
       "      <td>2.767374</td>\n",
       "      <td>2.767374</td>\n",
       "      <td>2.767374</td>\n",
       "      <td>2.767374</td>\n",
       "      <td>2.767374</td>\n",
       "    </tr>\n",
       "    <tr>\n",
       "      <th>2</th>\n",
       "      <td>0.616653</td>\n",
       "      <td>0.616653</td>\n",
       "      <td>0.616653</td>\n",
       "      <td>0.616653</td>\n",
       "      <td>0.616653</td>\n",
       "      <td>0.616653</td>\n",
       "      <td>0.616653</td>\n",
       "    </tr>\n",
       "    <tr>\n",
       "      <th>3</th>\n",
       "      <td>0.127921</td>\n",
       "      <td>0.127921</td>\n",
       "      <td>0.127921</td>\n",
       "      <td>0.127921</td>\n",
       "      <td>0.127921</td>\n",
       "      <td>0.127921</td>\n",
       "      <td>0.127921</td>\n",
       "    </tr>\n",
       "    <tr>\n",
       "      <th>4</th>\n",
       "      <td>-0.855550</td>\n",
       "      <td>-0.855550</td>\n",
       "      <td>-0.855550</td>\n",
       "      <td>-0.855550</td>\n",
       "      <td>-0.855550</td>\n",
       "      <td>-0.855550</td>\n",
       "      <td>-0.855550</td>\n",
       "    </tr>\n",
       "  </tbody>\n",
       "</table>\n",
       "</div>"
      ],
      "text/plain": [
       "   team1_elo  team2_elo  team1_elv_diff  team2_elv_diff  host_elv  team1_elv  \\\n",
       "0  -0.271798  -0.271798       -0.271798       -0.271798 -0.271798  -0.271798   \n",
       "1   2.767374   2.767374        2.767374        2.767374  2.767374   2.767374   \n",
       "2   0.616653   0.616653        0.616653        0.616653  0.616653   0.616653   \n",
       "3   0.127921   0.127921        0.127921        0.127921  0.127921   0.127921   \n",
       "4  -0.855550  -0.855550       -0.855550       -0.855550 -0.855550  -0.855550   \n",
       "\n",
       "   team2_elv  \n",
       "0  -0.271798  \n",
       "1   2.767374  \n",
       "2   0.616653  \n",
       "3   0.127921  \n",
       "4  -0.855550  "
      ]
     },
     "execution_count": 4,
     "metadata": {},
     "output_type": "execute_result"
    }
   ],
   "source": [
    "for i in range(60, 68):\n",
    "    X_test.iloc[:,i] = z_norm(X_test.iloc[:,66])\n",
    "\n",
    "for i in range(60, 68):\n",
    "    X_train.iloc[:,i] = z_norm(X_train.iloc[:,66])\n",
    "\n",
    "\n",
    "X_test.iloc[:,60:67].head()"
   ]
  },
  {
   "cell_type": "code",
   "execution_count": 5,
   "metadata": {
    "collapsed": true
   },
   "outputs": [],
   "source": [
    "def top_40_plus(model, X, y):\n",
    "\n",
    "    rfe = RFE(model, 40)\n",
    "    fit = rfe.fit(X, y)\n",
    "    \n",
    "    keep = []\n",
    "    for i,a in enumerate(fit.support_):\n",
    "        if (a == True):\n",
    "            keep.append(i)\n",
    "    \n",
    "    return keep"
   ]
  },
  {
   "cell_type": "code",
   "execution_count": 6,
   "metadata": {
    "collapsed": true
   },
   "outputs": [],
   "source": [
    "def lr(X_train, y_train, X_test):\n",
    "\n",
    "    lr = BaggingClassifier(base_estimator = LogisticRegression())\n",
    "    lr.fit(X_train, y_train)\n",
    "    y_pred = lr.predict_proba(X_test)\n",
    "    \n",
    "    return y_pred"
   ]
  },
  {
   "cell_type": "code",
   "execution_count": 7,
   "metadata": {
    "collapsed": true
   },
   "outputs": [],
   "source": [
    "def nb(X_train, y_train, X_test):\n",
    "    \n",
    "    nb = BaggingClassifier(base_estimator = GaussianNB())\n",
    "    nb.fit(X_train,y_train)\n",
    "    y_pred = nb.predict_proba(X_test)\n",
    "    \n",
    "    return y_pred"
   ]
  },
  {
   "cell_type": "code",
   "execution_count": 8,
   "metadata": {
    "collapsed": true
   },
   "outputs": [],
   "source": [
    "def rf(X_train, y_train, X_test):\n",
    "    \n",
    "    rf = BaggingClassifier(base_estimator = RandomForestClassifier())\n",
    "    rf.fit(X_train,y_train)\n",
    "    y_pred = rf.predict_proba(X_test)\n",
    "    \n",
    "    return y_pred"
   ]
  },
  {
   "cell_type": "code",
   "execution_count": 9,
   "metadata": {
    "collapsed": true
   },
   "outputs": [],
   "source": [
    "def sv(X_train, y_train, X_test):\n",
    "    \n",
    "    sv = BaggingClassifier(base_estimator = SVC(probability = True))\n",
    "    sv.fit(X_train,y_train)\n",
    "    y_pred = sv.predict_proba(X_test)\n",
    "    \n",
    "    return y_pred"
   ]
  },
  {
   "cell_type": "code",
   "execution_count": 10,
   "metadata": {
    "collapsed": true
   },
   "outputs": [],
   "source": [
    "def gb(X_train, y_train, X_test):\n",
    "\n",
    "    gb = BaggingClassifier(base_estimator = GradientBoostingClassifier())\n",
    "    gb.fit(X_train, y_train)\n",
    "    y_pred = gb.predict_proba(X_test)\n",
    "    \n",
    "    return y_pred"
   ]
  },
  {
   "cell_type": "code",
   "execution_count": 14,
   "metadata": {
    "collapsed": true
   },
   "outputs": [],
   "source": [
    "#X_train, X_test, y_train, y_test = train_test_split(X_train ,y_train, test_size = 0.3, random_state = 42)"
   ]
  },
  {
   "cell_type": "code",
   "execution_count": 24,
   "metadata": {
    "collapsed": true
   },
   "outputs": [],
   "source": [
    "def ensemble(X_train, y_train, X_test):\n",
    "    lr_keep = top_40_plus(LogisticRegression(), X_train, y_train)\n",
    "\n",
    "    # Declared Globally\n",
    "    # X_train, X_test, y_train, y_test \n",
    "   \n",
    "    lr_y = lr(X_train.iloc[:,lr_keep], y_train, X_test.iloc[:,lr_keep])\n",
    "    sv_y = sv(X_train.iloc[:,lr_keep], y_train, X_test.iloc[:,lr_keep])\n",
    "    rf_y = rf(X_train.iloc[:,lr_keep], y_train, X_test.iloc[:,lr_keep])\n",
    "    nb_y = nb(X_train.iloc[:,lr_keep], y_train, X_test.iloc[:,lr_keep])\n",
    "    gb_y = gb(X_train.iloc[:,lr_keep], y_train, X_test.iloc[:,lr_keep])\n",
    "    \n",
    "    final_y = []\n",
    "    \n",
    "    for i in range(len(X_test)):\n",
    "        final_y.append((lr_y[i][1]+ nb_y[i][1]+rf_y[i][1]+ sv_y[i][1]+ gb_y[i][1])/5)\n",
    "        \n",
    "    return final_y\n"
   ]
  },
  {
   "cell_type": "code",
   "execution_count": 25,
   "metadata": {
    "collapsed": true
   },
   "outputs": [],
   "source": [
    "e100 = ensemble(X_train, y_train, X_test)"
   ]
  },
  {
   "cell_type": "code",
   "execution_count": 30,
   "metadata": {
    "collapsed": true
   },
   "outputs": [],
   "source": [
    "pd.DataFrame({\"Proba_Win\":e100}).to_csv(\"Soft_5_probability.csv\")"
   ]
  },
  {
   "cell_type": "code",
   "execution_count": 41,
   "metadata": {},
   "outputs": [
    {
     "data": {
      "text/plain": [
       "1    0.935031\n",
       "0    0.064969\n",
       "dtype: float64"
      ]
     },
     "execution_count": 41,
     "metadata": {},
     "output_type": "execute_result"
    }
   ],
   "source": [
    "pd.Series(ebinary).value_counts()/(2130+148)"
   ]
  },
  {
   "cell_type": "code",
   "execution_count": 26,
   "metadata": {},
   "outputs": [
    {
     "data": {
      "text/plain": [
       "0.56325876908039985"
      ]
     },
     "execution_count": 26,
     "metadata": {},
     "output_type": "execute_result"
    }
   ],
   "source": [
    "log_loss(y_test, e100)"
   ]
  },
  {
   "cell_type": "code",
   "execution_count": 27,
   "metadata": {
    "collapsed": true
   },
   "outputs": [],
   "source": [
    "ebinary = []\n",
    "\n",
    "for i in range(len(e100)):    \n",
    "    if (e100[i] > 0.5): \n",
    "        ebinary.append(1)\n",
    "    else:\n",
    "        ebinary.append(0)"
   ]
  },
  {
   "cell_type": "code",
   "execution_count": 28,
   "metadata": {},
   "outputs": [
    {
     "data": {
      "text/plain": [
       "0.71565495207667729"
      ]
     },
     "execution_count": 28,
     "metadata": {},
     "output_type": "execute_result"
    }
   ],
   "source": [
    "accuracy_score(ebinary, y_test)"
   ]
  },
  {
   "cell_type": "markdown",
   "metadata": {
    "collapsed": true
   },
   "source": [
    "## ROC Curve"
   ]
  },
  {
   "cell_type": "code",
   "execution_count": 29,
   "metadata": {},
   "outputs": [
    {
     "data": {
      "image/png": "[encoded data removed]",
      "text/plain": [
       "<matplotlib.figure.Figure at 0x2533c287fd0>"
      ]
     },
     "metadata": {},
     "output_type": "display_data"
    }
   ],
   "source": [
    "def plot_roc(fpr, tpr, roc_auc):\n",
    "    \"\"\"Plots the ROC curve for the win probability model along with\n",
    "    the AUC.\n",
    "    \"\"\"\n",
    "    fig, ax = plt.subplots()\n",
    "    ax.set(title='Receiver Operating Characteristic',\n",
    "           xlim=[0, 1], ylim=[0, 1], xlabel='False Positive Rate',\n",
    "           ylabel='True Positive Rate')\n",
    "    ax.plot(fpr, tpr, 'm', label='AUC = %0.2f' % roc_auc)\n",
    "    ax.plot([0, 1], [0, 1], 'k--')\n",
    "    ax.legend(loc='lower right')\n",
    "    \n",
    "fpr, tpr, thresholds = roc_curve(y_test, e100)\n",
    "roc_auc = auc(fpr, tpr)\n",
    "plot_roc(fpr, tpr, roc_auc)"
   ]
  }
 ],
 "metadata": {
  "kernelspec": {
   "display_name": "Python 3",
   "language": "python",
   "name": "python3"
  },
  "language_info": {
   "codemirror_mode": {
    "name": "ipython",
    "version": 3
   },
   "file_extension": ".py",
   "mimetype": "text/x-python",
   "name": "python",
   "nbconvert_exporter": "python",
   "pygments_lexer": "ipython3",
   "version": "3.6.3"
  }
 },
 "nbformat": 4,
 "nbformat_minor": 2
}
